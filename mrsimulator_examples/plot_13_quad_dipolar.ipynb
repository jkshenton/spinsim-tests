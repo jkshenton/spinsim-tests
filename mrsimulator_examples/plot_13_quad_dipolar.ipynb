{
  "cells": [
    {
      "cell_type": "markdown",
      "metadata": {},
      "source": [
        "\n",
        "# Influence of 14N on 13C NMR MAS spectra of glycine\n",
        "\n",
        "\n",
        "> This notebook contains code adapted from the mrsimulator examples repository (https://github.com/mrsimulator/mrsimulator).\n",
        "> See LICENSE-THIRD-PARTY.md for the BSD 3-Clause license details.\n",
        "\n",
        "The alpha-carbon resonance of glycine, 13C (I=1/2), attached to 14N (I=1).\n",
        "The 14N quadrupolar tensor parameters were obtained from Hexem et al. [1](#f1).\n"
      ]
    },
    {
      "cell_type": "code",
      "execution_count": 22,
      "metadata": {
        "collapsed": false
      },
      "outputs": [],
      "source": [
        "import matplotlib.pyplot as plt\n",
        "import numpy as np\n",
        "\n",
        "from mrsimulator import Simulator, SpinSystem, Site, Coupling\n",
        "from mrsimulator.method.lib import BlochDecaySpectrum\n",
        "from mrsimulator import signal_processor as sp\n",
        "from mrsimulator.spin_system.tensors import SymmetricTensor\n",
        "from mrsimulator.method import SpectralDimension"
      ]
    },
    {
      "cell_type": "markdown",
      "metadata": {},
      "source": [
        "Create a 13C-14N coupled spin system.\n",
        "\n"
      ]
    },
    {
      "cell_type": "code",
      "execution_count": null,
      "metadata": {},
      "outputs": [],
      "source": [
        "from ase.io import read\n",
        "from soprano.selection import AtomSelection\n",
        "from soprano.properties.nmr import get_spin_system\n",
        "\n",
        "# atoms = read(\"../example_data/glycine/nmr/glycine.magres\")\n",
        "atoms = read(\"../example_data/glycine/crystalline/glycin25_nmr.magres\")\n",
        "# Get relevant subset\n",
        "CN_sel = AtomSelection(atoms, [12,14]) # C2 and N1\n",
        "atoms = CN_sel.subset(atoms)\n",
        "\n",
        "# Extract spin system in MRSimulator format\n",
        "magres_spin_system = get_spin_system(\n",
        "            atoms,\n",
        "            include_shielding=False,\n",
        "            include_efg=True,\n",
        "            include_dipolar=True,\n",
        "            ).to_mrsimulator()\n"
      ]
    },
    {
      "cell_type": "code",
      "execution_count": 66,
      "metadata": {},
      "outputs": [
        {
          "data": {
            "text/plain": [
              "{'sites': [{'isotope': '13C', 'label': 'C2'},\n",
              "  {'isotope': '14N',\n",
              "   'label': 'N1',\n",
              "   'quadrupolar': {'Cq': 1495258.3309293762,\n",
              "    'eta': 0.4769699014926341,\n",
              "    'alpha': 2.512614665384554,\n",
              "    'beta': 1.5355747234113313,\n",
              "    'gamma': 1.5228273584100065}}],\n",
              " 'couplings': [{'dipolar': {'D': -680.4752305595654,\n",
              "    'alpha': 2.6230298687793088,\n",
              "    'beta': 1.4629026832760956,\n",
              "    'gamma': 0.0},\n",
              "   'site_index': [0, 1]}]}"
            ]
          },
          "execution_count": 66,
          "metadata": {},
          "output_type": "execute_result"
        }
      ],
      "source": [
        "magres_spin_system\n"
      ]
    },
    {
      "cell_type": "code",
      "execution_count": 67,
      "metadata": {},
      "outputs": [
        {
          "name": "stdout",
          "output_type": "stream",
          "text": [
            "name=None description=None label=None property_units={'abundance': 'pct'} sites=[Site(name=None, description=None, label='C2', property_units={'isotropic_chemical_shift': 'ppm'}, isotope=Isotope(symbol='13C'), isotropic_chemical_shift=0.0, shielding_symmetric=None, shielding_antisymmetric=None, quadrupolar=None), Site(name=None, description=None, label='N1', property_units={'isotropic_chemical_shift': 'ppm'}, isotope=Isotope(symbol='14N'), isotropic_chemical_shift=0.0, shielding_symmetric=None, shielding_antisymmetric=None, quadrupolar=SymmetricTensor(name=None, description=None, label=None, property_units={'Cq': 'Hz', 'alpha': 'rad', 'beta': 'rad', 'gamma': 'rad'}, zeta=None, Cq=1495258.3309293762, D=None, eta=0.4769699014926341, alpha=2.512614665384554, beta=1.5355747234113313, gamma=1.5228273584100065))] couplings=[Coupling(name=None, description=None, label=None, property_units={'isotropic_j': 'Hz'}, site_index=[0, 1], isotropic_j=0.0, j_symmetric=None, j_antisymmetric=None, dipolar=SymmetricTensor(name=None, description=None, label=None, property_units={'D': 'Hz', 'alpha': 'rad', 'beta': 'rad', 'gamma': 'rad'}, zeta=None, Cq=None, D=-680.4752305595654, eta=None, alpha=2.6230298687793088, beta=1.4629026832760956, gamma=0.0))] abundance=100.0 transition_pathways=None\n"
          ]
        }
      ],
      "source": [
        "print(SpinSystem.parse_obj(magres_spin_system))"
      ]
    },
    {
      "cell_type": "code",
      "execution_count": 68,
      "metadata": {
        "collapsed": false
      },
      "outputs": [],
      "source": [
        "spin_system = SpinSystem(\n",
        "    sites=[\n",
        "        Site(isotope=\"13C\", isotropic_chemical_shift=0.0),\n",
        "        Site(\n",
        "            isotope=\"14N\",\n",
        "            isotropic_chemical_shift=0,  # in ppm\n",
        "            quadrupolar=SymmetricTensor(\n",
        "                Cq=1.18e6,  # in Hz\n",
        "                eta=0.54,\n",
        "                alpha=0,\n",
        "                beta=5 * np.pi / 180,\n",
        "                gamma=0,\n",
        "            ),\n",
        "        ),\n",
        "    ],\n",
        "    couplings=[Coupling(site_index=[0, 1], dipolar=SymmetricTensor(D=-660.2))],\n",
        ")"
      ]
    },
    {
      "cell_type": "markdown",
      "metadata": {},
      "source": [
        "Create a BlochDecaySpectrum method.\n",
        "\n"
      ]
    },
    {
      "cell_type": "code",
      "execution_count": 69,
      "metadata": {
        "collapsed": false
      },
      "outputs": [],
      "source": [
        "method = BlochDecaySpectrum(\n",
        "    channels=[\"13C\"],\n",
        "    magnetic_flux_density=3.5338,  # in T\n",
        "    rotor_frequency=12000,  # in Hz\n",
        "    spectral_dimensions=[SpectralDimension(count=2048, spectral_width=200)],\n",
        ")"
      ]
    },
    {
      "cell_type": "markdown",
      "metadata": {},
      "source": [
        "Create the Simulator object and add the method and the spin system object.\n",
        "\n"
      ]
    },
    {
      "cell_type": "code",
      "execution_count": 70,
      "metadata": {
        "collapsed": false
      },
      "outputs": [],
      "source": [
        "magres_sim = Simulator(spin_systems=[magres_spin_system], methods=[method])\n",
        "sim = Simulator(spin_systems=[spin_system], methods=[method])\n",
        "\n",
        "magres_sim.config.integration_volume = \"hemisphere\"\n",
        "sim.config.integration_volume = \"hemisphere\"\n",
        "\n",
        "\n",
        "magres_sim.run()\n",
        "sim.run()"
      ]
    },
    {
      "cell_type": "markdown",
      "metadata": {},
      "source": [
        "Add post-simulation signal processing.\n",
        "\n"
      ]
    },
    {
      "cell_type": "code",
      "execution_count": 71,
      "metadata": {
        "collapsed": false
      },
      "outputs": [],
      "source": [
        "processor = sp.SignalProcessor(\n",
        "    operations=[\n",
        "        sp.IFFT(),\n",
        "        sp.apodization.Gaussian(FWHM=\"1 Hz\"),\n",
        "        sp.FFT(),\n",
        "    ]\n",
        ")\n",
        "\n",
        "magres_processed_dataset = processor.apply_operations(dataset=magres_sim.methods[0].simulation)\n",
        "magres_processed_dataset.dimensions[0].to(\"Hz\")\n",
        "\n",
        "processed_dataset = processor.apply_operations(dataset=sim.methods[0].simulation)\n",
        "processed_dataset.dimensions[0].to(\"Hz\")"
      ]
    },
    {
      "cell_type": "code",
      "execution_count": 74,
      "metadata": {
        "collapsed": false
      },
      "outputs": [
        {
          "data": {
            "image/png": "[encoded data removed]",
            "text/plain": [
              "<Figure size 425x300 with 1 Axes>"
            ]
          },
          "metadata": {},
          "output_type": "display_data"
        }
      ],
      "source": [
        "plt.figure(figsize=(4.25, 3.0))\n",
        "ax = plt.subplot(projection=\"csdm\")\n",
        "ax.plot(magres_processed_dataset.real, color=\"C0\", linewidth=1)\n",
        "ax.plot(processed_dataset.real, color=\"C1\", linewidth=1)\n",
        "ax.invert_xaxis()\n",
        "plt.tight_layout()\n",
        "plt.show()"
      ]
    },
    {
      "cell_type": "markdown",
      "metadata": {},
      "source": [
        "## References\n",
        "\n",
        "[1] Hexem, J. G., Frey, M. H., and Opella, S. J., Influence of\n",
        "     $^{14}\\text{N}$ on $^{13}\\text{C}$ NMR Spectra of Solids, J. Am.\n",
        "     Chem. Soc., 1981, **103**, 224-226.\n",
        "     [DOI: 10.1021/ja00391a057](https://doi.org/10.1021/ja00391a057)\n",
        "\n"
      ]
    },
    {
      "cell_type": "markdown",
      "metadata": {},
      "source": []
    },
    {
      "cell_type": "markdown",
      "metadata": {},
      "source": []
    }
  ],
  "metadata": {
    "kernelspec": {
      "display_name": "venv",
      "language": "python",
      "name": "python3"
    },
    "language_info": {
      "codemirror_mode": {
        "name": "ipython",
        "version": 3
      },
      "file_extension": ".py",
      "mimetype": "text/x-python",
      "name": "python",
      "nbconvert_exporter": "python",
      "pygments_lexer": "ipython3",
      "version": "3.12.3"
    }
  },
  "nbformat": 4,
  "nbformat_minor": 0
}
