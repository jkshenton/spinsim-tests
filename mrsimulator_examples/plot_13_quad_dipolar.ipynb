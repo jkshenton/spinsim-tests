{
  "cells": [
    {
      "cell_type": "markdown",
      "metadata": {},
      "source": [
        "\n",
        "# Influence of 14N on 13C NMR MAS spectra of glycine\n",
        "\n",
        "\n",
        "> This notebook contains code adapted from the mrsimulator examples repository (https://github.com/mrsimulator/mrsimulator).\n",
        "> See LICENSE-THIRD-PARTY.md for the BSD 3-Clause license details.\n",
        "\n",
        "The alpha-carbon resonance of glycine, 13C (I=1/2), attached to 14N (I=1).\n",
        "The 14N quadrupolar tensor parameters were obtained from Hexem et al. [1](#f1).\n"
      ]
    },
    {
      "cell_type": "code",
      "execution_count": 1,
      "metadata": {
        "collapsed": false
      },
      "outputs": [],
      "source": [
        "import matplotlib.pyplot as plt\n",
        "import numpy as np\n",
        "\n",
        "from mrsimulator import Simulator, SpinSystem, Site, Coupling\n",
        "from mrsimulator.method.lib import BlochDecaySpectrum\n",
        "from mrsimulator import signal_processor as sp\n",
        "from mrsimulator.spin_system.tensors import SymmetricTensor\n",
        "from mrsimulator.method import SpectralDimension"
      ]
    },
    {
      "cell_type": "markdown",
      "metadata": {},
      "source": [
        "Create a 13C-14N coupled spin system.\n",
        "\n"
      ]
    },
    {
      "cell_type": "code",
      "execution_count": 2,
      "metadata": {},
      "outputs": [],
      "source": [
        "from ase.io import read\n",
        "from soprano.selection import AtomSelection\n",
        "from soprano.properties.nmr import get_spin_system, EFGTensor, DipolarTensor\n",
        "\n",
        "# Crystalline glycine:\n",
        "atoms = read(\"../example_data/glycine/crystalline/glycin25_nmr.magres\")\n",
        "# Get relevant subset via indices\n",
        "CN_sel = AtomSelection(atoms, [12,14]) # C2 and N1\n",
        "atoms = CN_sel.subset(atoms)\n",
        "\n",
        "# Extract spin system in MRSimulator format\n",
        "magres_spin_system = get_spin_system(\n",
        "            atoms,\n",
        "            include_shielding=False,\n",
        "            include_efg=True,\n",
        "            include_dipolar=True,\n",
        "            ).to_mrsimulator()\n"
      ]
    },
    {
      "cell_type": "markdown",
      "metadata": {},
      "source": [
        "Now, in the spin system we just generated, the orientation of the EFG tensor on N1 and the dipolar tensor between C1 and N1 are given relative to the global coordinate system. However, in this case we just want the orientation of the EFG tensor with respect to the dipolar tensor - i.e. the orientation of the EFG tensor on N1 with respect to the C-N bond. We can get this using some Soprano functionality as follows:"
      ]
    },
    {
      "cell_type": "code",
      "execution_count": 3,
      "metadata": {},
      "outputs": [],
      "source": [
        "# First extract the tensors:\n",
        "efg = EFGTensor.get(atoms)[1] # EFG tensor for N1\n",
        "dip = DipolarTensor.get(atoms)[(0,1)] # Dipolar tensor between C2 and N1"
      ]
    },
    {
      "cell_type": "markdown",
      "metadata": {},
      "source": [
        "Now get the relative Euler angles between the two tensors, noting that there are, in general, 16 equivalent sets of Euler angles that can describe the relative orientation of two tensors. We are free to choose any of these sets."
      ]
    },
    {
      "cell_type": "code",
      "execution_count": 4,
      "metadata": {},
      "outputs": [
        {
          "name": "stdout",
          "output_type": "stream",
          "text": [
            "The following Euler angles are equivalent to align the EFG and Dipolar tensors (deg):\n",
            "[[ -0.           7.55890461 216.36158111]\n",
            " [180.         172.44109539 143.63841889]\n",
            " [180.         172.44109539 323.63841889]\n",
            " [ -0.           7.55890461  36.36158111]\n",
            " [  0.         172.44109539  36.36158111]\n",
            " [180.           7.55890461 323.63841889]\n",
            " [180.           7.55890461 143.63841889]\n",
            " [  0.         172.44109539 216.36158111]\n",
            " [180.         172.44109539  36.36158111]\n",
            " [  0.           7.55890461 323.63841889]\n",
            " [  0.           7.55890461 143.63841889]\n",
            " [180.         172.44109539 216.36158111]\n",
            " [180.           7.55890461 216.36158111]\n",
            " [ -0.         172.44109539 143.63841889]\n",
            " [ -0.         172.44109539 323.63841889]\n",
            " [180.           7.55890461  36.36158111]]\n"
          ]
        }
      ],
      "source": [
        "equivalent_euler_angles = efg.equivalent_euler_to(dip)\n",
        "\n",
        "print(\"The following Euler angles are equivalent to align the EFG and Dipolar tensors (deg):\")\n",
        "print(equivalent_euler_angles * 180 / np.pi)\n",
        "efg_angles = equivalent_euler_angles[0] # Any of these would be fine. Let's use the first one\n",
        "# We can zero out the dipolar tensor angles since we are only interested in the relative orientation\n",
        "dip_angles = [0,0,0] \n",
        "\n",
        "# Edit the spin system angles manually:\n",
        "# EFG angles - set to the first equivalent relative Euler angles\n",
        "magres_spin_system[\"sites\"][1][\"quadrupolar\"][\"alpha\"] = efg_angles[0]\n",
        "magres_spin_system[\"sites\"][1][\"quadrupolar\"][\"beta\"] = efg_angles[1]\n",
        "magres_spin_system[\"sites\"][1][\"quadrupolar\"][\"gamma\"] = efg_angles[2]\n",
        "\n",
        "# Dipolar angles - set to zero\n",
        "magres_spin_system[\"couplings\"][0][\"dipolar\"][\"alpha\"] = dip_angles[0]\n",
        "magres_spin_system[\"couplings\"][0][\"dipolar\"][\"beta\"] = dip_angles[1]\n",
        "magres_spin_system[\"couplings\"][0][\"dipolar\"][\"gamma\"] = dip_angles[2]\n",
        "\n",
        "\n",
        "\n"
      ]
    },
    {
      "cell_type": "markdown",
      "metadata": {},
      "source": [
        "We end up with the following spin system based on the magres file:"
      ]
    },
    {
      "cell_type": "code",
      "execution_count": 5,
      "metadata": {},
      "outputs": [
        {
          "data": {
            "text/plain": [
              "{'sites': [{'isotope': '13C', 'label': 'C2'},\n",
              "  {'isotope': '14N',\n",
              "   'label': 'N1',\n",
              "   'quadrupolar': {'Cq': 1495258.3309293762,\n",
              "    'eta': 0.4769699014926341,\n",
              "    'alpha': -0.0,\n",
              "    'beta': 0.13192777333949862,\n",
              "    'gamma': 3.7762219651381095}}],\n",
              " 'couplings': [{'dipolar': {'D': -680.4752305595654,\n",
              "    'alpha': 0,\n",
              "    'beta': 0,\n",
              "    'gamma': 0},\n",
              "   'site_index': [0, 1]}]}"
            ]
          },
          "execution_count": 5,
          "metadata": {},
          "output_type": "execute_result"
        }
      ],
      "source": [
        "magres_spin_system"
      ]
    },
    {
      "cell_type": "markdown",
      "metadata": {},
      "source": [
        "The spin system from the MRSimulator example is as follows:"
      ]
    },
    {
      "cell_type": "code",
      "execution_count": 6,
      "metadata": {
        "collapsed": false
      },
      "outputs": [],
      "source": [
        "spin_system = SpinSystem(\n",
        "    sites=[\n",
        "        Site(isotope=\"13C\", isotropic_chemical_shift=0.0),\n",
        "        Site(\n",
        "            isotope=\"14N\",\n",
        "            isotropic_chemical_shift=0,  # in ppm\n",
        "            quadrupolar=SymmetricTensor(\n",
        "                Cq=1.18e6,  # in Hz\n",
        "                eta=0.54,\n",
        "                alpha=0,\n",
        "                beta=5 * np.pi / 180,\n",
        "                gamma=0,\n",
        "            ),\n",
        "        ),\n",
        "    ],\n",
        "    couplings=[Coupling(site_index=[0, 1], dipolar=SymmetricTensor(D=-660.2))],\n",
        ")"
      ]
    },
    {
      "cell_type": "markdown",
      "metadata": {},
      "source": [
        "Create a BlochDecaySpectrum method.\n",
        "\n"
      ]
    },
    {
      "cell_type": "code",
      "execution_count": 7,
      "metadata": {
        "collapsed": false
      },
      "outputs": [],
      "source": [
        "method = BlochDecaySpectrum(\n",
        "    channels=[\"13C\"],\n",
        "    magnetic_flux_density=3.5338,  # in T\n",
        "    rotor_frequency=12000,  # in Hz\n",
        "    spectral_dimensions=[SpectralDimension(count=2048, spectral_width=200)],\n",
        ")"
      ]
    },
    {
      "cell_type": "markdown",
      "metadata": {},
      "source": [
        "Create the Simulator objects and add the method and the spin system objects. \n",
        "\n"
      ]
    },
    {
      "cell_type": "code",
      "execution_count": 8,
      "metadata": {
        "collapsed": false
      },
      "outputs": [],
      "source": [
        "magres_sim = Simulator(spin_systems=[magres_spin_system], methods=[method])\n",
        "sim = Simulator(spin_systems=[spin_system], methods=[method])\n",
        "\n",
        "magres_sim.config.integration_volume = \"hemisphere\"\n",
        "sim.config.integration_volume = \"hemisphere\"\n",
        "\n",
        "# Run both simulations\n",
        "magres_sim.run()\n",
        "sim.run()"
      ]
    },
    {
      "cell_type": "markdown",
      "metadata": {},
      "source": [
        "Add post-simulation signal processing.\n",
        "\n"
      ]
    },
    {
      "cell_type": "code",
      "execution_count": 9,
      "metadata": {
        "collapsed": false
      },
      "outputs": [],
      "source": [
        "processor = sp.SignalProcessor(\n",
        "    operations=[\n",
        "        sp.IFFT(),\n",
        "        sp.apodization.Gaussian(FWHM=\"1 Hz\"),\n",
        "        sp.FFT(),\n",
        "    ]\n",
        ")\n",
        "\n",
        "magres_processed_dataset = processor.apply_operations(dataset=magres_sim.methods[0].simulation)\n",
        "magres_processed_dataset.dimensions[0].to(\"Hz\")\n",
        "\n",
        "processed_dataset = processor.apply_operations(dataset=sim.methods[0].simulation)\n",
        "processed_dataset.dimensions[0].to(\"Hz\")"
      ]
    },
    {
      "cell_type": "markdown",
      "metadata": {},
      "source": [
        "Plot the spectra"
      ]
    },
    {
      "cell_type": "code",
      "execution_count": 10,
      "metadata": {
        "collapsed": false
      },
      "outputs": [
        {
          "data": {
            "image/png": "[encoded data removed]",
            "text/plain": [
              "<Figure size 425x300 with 1 Axes>"
            ]
          },
          "metadata": {},
          "output_type": "display_data"
        }
      ],
      "source": [
        "plt.figure(figsize=(4.25, 3.0))\n",
        "ax = plt.subplot(projection=\"csdm\")\n",
        "ax.plot(magres_processed_dataset.real, color=\"C0\", linewidth=1, label=\"magres\")\n",
        "ax.plot(processed_dataset.real, color=\"C1\", linewidth=1, label=\"sim\")\n",
        "ax.invert_xaxis()\n",
        "ax.legend()\n",
        "plt.tight_layout()\n",
        "plt.show()"
      ]
    },
    {
      "cell_type": "markdown",
      "metadata": {},
      "source": [
        "## References\n",
        "\n",
        "[1] Hexem, J. G., Frey, M. H., and Opella, S. J., Influence of\n",
        "     $^{14}\\text{N}$ on $^{13}\\text{C}$ NMR Spectra of Solids, J. Am.\n",
        "     Chem. Soc., 1981, **103**, 224-226.\n",
        "     [DOI: 10.1021/ja00391a057](https://doi.org/10.1021/ja00391a057)\n",
        "\n"
      ]
    }
  ],
  "metadata": {
    "kernelspec": {
      "display_name": "venv",
      "language": "python",
      "name": "python3"
    },
    "language_info": {
      "codemirror_mode": {
        "name": "ipython",
        "version": 3
      },
      "file_extension": ".py",
      "mimetype": "text/x-python",
      "name": "python",
      "nbconvert_exporter": "python",
      "pygments_lexer": "ipython3",
      "version": "3.12.3"
    }
  },
  "nbformat": 4,
  "nbformat_minor": 0
}
