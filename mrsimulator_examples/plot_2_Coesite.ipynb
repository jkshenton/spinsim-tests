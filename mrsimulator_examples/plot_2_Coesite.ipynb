{
  "cells": [
    {
      "cell_type": "markdown",
      "metadata": {},
      "source": [
        "\n",
        "# Coesite, ¹⁷O (I=5/2)\n",
        "\n",
        "¹⁷O (I=5/2) quadrupolar spectrum simulation.\n"
      ]
    },
    {
      "cell_type": "markdown",
      "metadata": {},
      "source": [
        "Coesite is a high-pressure (2-3 GPa) and high-temperature (700°C) polymorph of silicon\n",
        "dioxide $\\text{SiO}_2$. Coesite has five crystallographic $^{17}\\text{O}$\n",
        "sites. In the following, we use the $^{17}\\text{O}$ EFG tensor information from\n",
        "Grandinetti `et al.` [#f1]_\n",
        "\n"
      ]
    },
    {
      "cell_type": "code",
      "execution_count": 1,
      "metadata": {
        "collapsed": false
      },
      "outputs": [],
      "source": [
        "import matplotlib.pyplot as plt\n",
        "\n",
        "from mrsimulator import Simulator, SpinSystem, Site\n",
        "from mrsimulator import signal_processor as sp\n",
        "from mrsimulator.method.lib import BlochDecayCTSpectrum\n",
        "from mrsimulator.spin_system.tensors import SymmetricTensor\n",
        "from mrsimulator.method import SpectralDimension"
      ]
    },
    {
      "cell_type": "markdown",
      "metadata": {},
      "source": [
        "Create the sites.\n",
        "\n"
      ]
    },
    {
      "cell_type": "code",
      "execution_count": 2,
      "metadata": {
        "collapsed": false
      },
      "outputs": [],
      "source": [
        "# default unit of isotropic_chemical_shift is ppm and Cq is Hz.\n",
        "O17_1 = Site(\n",
        "    isotope=\"17O\",\n",
        "    isotropic_chemical_shift=29,\n",
        "    quadrupolar=SymmetricTensor(Cq=6.05e6, eta=0.000),\n",
        ")\n",
        "O17_2 = Site(\n",
        "    isotope=\"17O\",\n",
        "    isotropic_chemical_shift=41,\n",
        "    quadrupolar=SymmetricTensor(Cq=5.43e6, eta=0.166),\n",
        ")\n",
        "O17_3 = Site(\n",
        "    isotope=\"17O\",\n",
        "    isotropic_chemical_shift=57,\n",
        "    quadrupolar=SymmetricTensor(Cq=5.45e6, eta=0.168),\n",
        ")\n",
        "O17_4 = Site(\n",
        "    isotope=\"17O\",\n",
        "    isotropic_chemical_shift=53,\n",
        "    quadrupolar=SymmetricTensor(Cq=5.52e6, eta=0.169),\n",
        ")\n",
        "O17_5 = Site(\n",
        "    isotope=\"17O\",\n",
        "    isotropic_chemical_shift=58,\n",
        "    quadrupolar=SymmetricTensor(Cq=5.16e6, eta=0.292),\n",
        ")\n",
        "\n",
        "# all five sites.\n",
        "sites = [O17_1, O17_2, O17_3, O17_4, O17_5]"
      ]
    },
    {
      "cell_type": "markdown",
      "metadata": {},
      "source": [
        "Create the spin systems from these sites. For optimum performance, we\n",
        "create five single-site spin systems instead of a single five-site spin system. The\n",
        "abundance of each spin system is taken from above reference. Here we are iterating\n",
        "over both the *sites* and *abundance* list concurrently using a list comprehension\n",
        "to construct a list of SpinSystems\n",
        "\n"
      ]
    },
    {
      "cell_type": "code",
      "execution_count": 3,
      "metadata": {
        "collapsed": false
      },
      "outputs": [],
      "source": [
        "abundance = [0.83, 1.05, 2.16, 2.05, 1.90]\n",
        "spin_systems = [SpinSystem(sites=[s], abundance=a) for s, a in zip(sites, abundance)]"
      ]
    },
    {
      "cell_type": "markdown",
      "metadata": {},
      "source": [
        "Now for the magres-extracted spin system"
      ]
    },
    {
      "cell_type": "code",
      "execution_count": 4,
      "metadata": {},
      "outputs": [
        {
          "name": "stderr",
          "output_type": "stream",
          "text": [
            "\u001b[93m \u001b[1m WARNING: \u001b[0m The symmetry-reduced sites don't match the CIF labels!Manually check that the symmetry reduction is working as expected.\n",
            "The mismatched sites are: ['O1' 'O1' 'O2' 'O2' 'O3' 'O3' 'O3' 'O3' 'O4' 'O4' 'O4' 'O4' 'O5' 'O5'\n",
            " 'O5' 'O5' 'Si1' 'Si1' 'Si1' 'Si1' 'Si2' 'Si2'] at [ 0  1  2  3  4  5  6  7  8  9 10 11 12 13 14 15 16 17 18 19 20 22] (/opt/venv/lib/python3.12/site-packages/soprano/properties/labeling/labeling.py, line: 379)\n",
            "\u001b[93m \u001b[1m WARNING: \u001b[0m \n",
            "Proceeding with the CIF label reduction rather than the symmetry reduction. (/opt/venv/lib/python3.12/site-packages/soprano/properties/labeling/labeling.py, line: 385)\n"
          ]
        }
      ],
      "source": [
        "from ase.io import read\n",
        "from soprano.selection import AtomSelection\n",
        "from soprano.properties.nmr import get_spin_system\n",
        "\n",
        "atoms = read(\"../example_data/coesite/coesite_nmr.magres\")\n",
        "# Reduce to the unique sites in the system:\n",
        "atoms = AtomSelection.unique(atoms).subset(atoms)\n",
        "\n",
        "labels = [\"O1\", \"O2\", \"O3\", \"O4\", \"O5\"]\n",
        "\n",
        "# Create a spin system for each unique site\n",
        "magres_spin_systems = []\n",
        "for i, label in enumerate(labels):\n",
        "    # Get the atoms with the label\n",
        "    sel = AtomSelection.from_selection_string(atoms, label)\n",
        "    spin_system = get_spin_system(sel.subset(atoms), references={\"O\": 286.165}).to_mrsimulator()\n",
        "    # Update the dictionary to include the abundance\n",
        "    spin_system[\"abundance\"] = abundance[i]\n",
        "    magres_spin_systems.append(spin_system)"
      ]
    },
    {
      "cell_type": "markdown",
      "metadata": {},
      "source": [
        "For now, let's assume that the EFG and MS tensors are aligned with each other in each case and so we can remove all angle parameters from the SpinSystem objects."
      ]
    },
    {
      "cell_type": "code",
      "execution_count": 5,
      "metadata": {},
      "outputs": [],
      "source": [
        "# remove all angles from the spin systems\n",
        "for sys in magres_spin_systems:\n",
        "    del sys[\"sites\"][0][\"shielding_symmetric\"][\"alpha\"]\n",
        "    del sys[\"sites\"][0][\"shielding_symmetric\"][\"beta\"]\n",
        "    del sys[\"sites\"][0][\"shielding_symmetric\"][\"gamma\"]\n",
        "\n",
        "    # same for quadrupolar tensor\n",
        "    del sys[\"sites\"][0][\"quadrupolar\"][\"alpha\"]\n",
        "    del sys[\"sites\"][0][\"quadrupolar\"][\"beta\"]\n",
        "    del sys[\"sites\"][0][\"quadrupolar\"][\"gamma\"]"
      ]
    },
    {
      "cell_type": "markdown",
      "metadata": {},
      "source": [
        "Let's examine the generated SpinSystems"
      ]
    },
    {
      "cell_type": "code",
      "execution_count": 6,
      "metadata": {},
      "outputs": [
        {
          "data": {
            "text/plain": [
              "[{'sites': [{'isotope': '17O',\n",
              "    'label': 'O1',\n",
              "    'isotropic_chemical_shift': 29.650949848018264,\n",
              "    'shielding_symmetric': {'zeta': -78.63017009152958,\n",
              "     'eta': 0.028162099399096998},\n",
              "    'quadrupolar': {'Cq': -6287307.679917204, 'eta': 0.032099292709657945}}],\n",
              "  'couplings': [],\n",
              "  'abundance': 0.83},\n",
              " {'sites': [{'isotope': '17O',\n",
              "    'label': 'O2',\n",
              "    'isotropic_chemical_shift': 41.42581765412775,\n",
              "    'shielding_symmetric': {'zeta': -59.06542796100695,\n",
              "     'eta': 0.05830089494103702},\n",
              "    'quadrupolar': {'Cq': -5578039.226773632, 'eta': 0.23656097133462986}}],\n",
              "  'couplings': [],\n",
              "  'abundance': 1.05},\n",
              " {'sites': [{'isotope': '17O',\n",
              "    'label': 'O3',\n",
              "    'isotropic_chemical_shift': 55.425150869801556,\n",
              "    'shielding_symmetric': {'zeta': -59.19842631963547,\n",
              "     'eta': 0.20008979252506623},\n",
              "    'quadrupolar': {'Cq': -5578696.006906953, 'eta': 0.162954393964735}}],\n",
              "  'couplings': [],\n",
              "  'abundance': 2.16},\n",
              " {'sites': [{'isotope': '17O',\n",
              "    'label': 'O4',\n",
              "    'isotropic_chemical_shift': 53.01840983690062,\n",
              "    'shielding_symmetric': {'zeta': -64.75417299177994,\n",
              "     'eta': 0.20527023127015623},\n",
              "    'quadrupolar': {'Cq': -5674379.093920593, 'eta': 0.17728010173011702}}],\n",
              "  'couplings': [],\n",
              "  'abundance': 2.05},\n",
              " {'sites': [{'isotope': '17O',\n",
              "    'label': 'O5',\n",
              "    'isotropic_chemical_shift': 58.54867798001002,\n",
              "    'shielding_symmetric': {'zeta': -53.73718802328702,\n",
              "     'eta': 0.17840901902144274},\n",
              "    'quadrupolar': {'Cq': -5211061.785951457, 'eta': 0.30723650170391426}}],\n",
              "  'couplings': [],\n",
              "  'abundance': 1.9}]"
            ]
          },
          "execution_count": 6,
          "metadata": {},
          "output_type": "execute_result"
        }
      ],
      "source": [
        "magres_spin_systems"
      ]
    },
    {
      "cell_type": "markdown",
      "metadata": {},
      "source": [
        "Create a central transition selective Bloch decay spectrum method.\n",
        "\n"
      ]
    },
    {
      "cell_type": "code",
      "execution_count": 7,
      "metadata": {
        "collapsed": false
      },
      "outputs": [],
      "source": [
        "method = BlochDecayCTSpectrum(\n",
        "    channels=[\"17O\"],\n",
        "    rotor_frequency=14000,  # in Hz\n",
        "    spectral_dimensions=[\n",
        "        SpectralDimension(\n",
        "            count=2048,\n",
        "            spectral_width=50000,  # in Hz\n",
        "            label=r\"$^{17}$O resonances\",\n",
        "        )\n",
        "    ],\n",
        ")"
      ]
    },
    {
      "cell_type": "markdown",
      "metadata": {},
      "source": [
        "The above method is set up to record the $^{17}\\text{O}$ resonances at the\n",
        "magic angle, spinning at 14 kHz and 9.4 T (default, if the value is not provided)\n",
        "external magnetic flux density. The resonances are recorded over 50 kHz spectral\n",
        "width using 2048 points.\n",
        "\n"
      ]
    },
    {
      "cell_type": "markdown",
      "metadata": {},
      "source": [
        "Create the Simulator object and add method and spin system objects.\n",
        "\n"
      ]
    },
    {
      "cell_type": "code",
      "execution_count": 8,
      "metadata": {
        "collapsed": false
      },
      "outputs": [
        {
          "data": {
            "image/png": "[encoded data removed]",
            "text/plain": [
              "<Figure size 425x300 with 1 Axes>"
            ]
          },
          "metadata": {},
          "output_type": "display_data"
        }
      ],
      "source": [
        "sim = Simulator(spin_systems=spin_systems, methods=[method])\n",
        "sim.run()\n",
        "\n",
        "magres_sim = Simulator(spin_systems=magres_spin_systems, methods=[method])\n",
        "magres_sim.run()\n",
        "\n",
        "# The plot of the simulation before signal processing.\n",
        "plt.figure(figsize=(4.25, 3.0))\n",
        "ax = plt.subplot(projection=\"csdm\")\n",
        "ax.plot(sim.methods[0].simulation.real, color=\"black\", linewidth=1, label=\"simulated\")\n",
        "ax.plot(magres_sim.methods[0].simulation.real, color=\"red\", linewidth=1, label=\"magres\")\n",
        "ax.invert_xaxis()\n",
        "ax.legend()\n",
        "plt.tight_layout()\n",
        "plt.show()"
      ]
    },
    {
      "cell_type": "markdown",
      "metadata": {},
      "source": [
        "Add post-simulation signal processing.\n",
        "\n"
      ]
    },
    {
      "cell_type": "code",
      "execution_count": 9,
      "metadata": {
        "collapsed": false
      },
      "outputs": [
        {
          "data": {
            "image/png": "[encoded data removed]",
            "text/plain": [
              "<Figure size 425x300 with 1 Axes>"
            ]
          },
          "metadata": {},
          "output_type": "display_data"
        }
      ],
      "source": [
        "processor = sp.SignalProcessor(\n",
        "    operations=[\n",
        "        sp.IFFT(),\n",
        "        sp.apodization.Exponential(FWHM=\"30 Hz\"),\n",
        "        sp.apodization.Gaussian(FWHM=\"145 Hz\"),\n",
        "        sp.FFT(),\n",
        "    ]\n",
        ")\n",
        "processed_dataset = processor.apply_operations(dataset=sim.methods[0].simulation)\n",
        "magres_processed_dataset = processor.apply_operations(dataset=magres_sim.methods[0].simulation)\n",
        "\n",
        "# The plot of the simulation after signal processing.\n",
        "plt.figure(figsize=(4.25, 3.0))\n",
        "ax = plt.subplot(projection=\"csdm\")\n",
        "ax.plot(processed_dataset.real, color=\"black\", linewidth=1, label=\"simulated\")\n",
        "ax.plot(magres_processed_dataset.real, color=\"red\", linewidth=1, label=\"magres\")\n",
        "ax.invert_xaxis()\n",
        "ax.legend()\n",
        "plt.tight_layout()\n",
        "plt.show()"
      ]
    },
    {
      "cell_type": "markdown",
      "metadata": {},
      "source": [
        ".. [#f1] Grandinetti, P. J., Baltisberger, J. H., Farnan, I., Stebbins, J. F.,\n",
        "      Werner, U. and Pines, A.\n",
        "      Solid-State $^{17}\\text{O}$ Magic-Angle and Dynamic-Angle Spinning NMR\n",
        "      Study of the $\\text{SiO}_2$ Polymorph Coesite, J. Phys. Chem. 1995,\n",
        "      **99**, *32*, 12341-12348.\n",
        "      [DOI: 10.1021/j100032a045](https://doi.org/10.1021/j100032a045)\n",
        "\n"
      ]
    }
  ],
  "metadata": {
    "kernelspec": {
      "display_name": "venv",
      "language": "python",
      "name": "python3"
    },
    "language_info": {
      "codemirror_mode": {
        "name": "ipython",
        "version": 3
      },
      "file_extension": ".py",
      "mimetype": "text/x-python",
      "name": "python",
      "nbconvert_exporter": "python",
      "pygments_lexer": "ipython3",
      "version": "3.12.3"
    }
  },
  "nbformat": 4,
  "nbformat_minor": 0
}
